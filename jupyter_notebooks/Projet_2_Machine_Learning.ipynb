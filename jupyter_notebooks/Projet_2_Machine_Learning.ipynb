{
 "cells": [
  {
   "cell_type": "code",
   "execution_count": null,
   "id": "6e19b3e2",
   "metadata": {},
   "outputs": [],
   "source": [
    "from sklearn.preprocessing import MultiLabelBinarizer\n",
    "from sklearn.neighbors import NearestNeighbors\n",
    "from sklearn.preprocessing import MinMaxScaler\n",
    "from sklearn.decomposition import PCA"
   ]
  },
  {
   "cell_type": "code",
   "execution_count": null,
   "id": "9aec96c0",
   "metadata": {},
   "outputs": [],
   "source": [
    "df = pd.read_csv('app_streamlit/data/films_db.csv')"
   ]
  },
  {
   "cell_type": "code",
   "execution_count": null,
   "id": "ac068738",
   "metadata": {},
   "outputs": [],
   "source": [
    "# Utiliser MultiLabelBinarizer pour binariser les colonnes\n",
    "mlb = MultiLabelBinarizer()\n",
    "df = df.drop(['tconst','Titre_original','Nb_votes', \"overview\", \"poster_path\"], axis=1)"
   ]
  },
  {
   "cell_type": "code",
   "execution_count": null,
   "id": "efbab96c",
   "metadata": {},
   "outputs": [],
   "source": [
    "df['Genres'] = df['Genres'].str.split(',')\n",
    "df['liste_acteurs'] = df['liste_acteurs'].str.split(',')\n",
    "df['Realisateur'] = df['Realisateur'].str.split(',')"
   ]
  },
  {
   "cell_type": "code",
   "execution_count": null,
   "id": "14bfc4fa",
   "metadata": {},
   "outputs": [],
   "source": [
    "genres_binarized = pd.DataFrame(mlb.fit_transform(df['Genres']), columns=mlb.classes_)\n",
    "acteurs_binarized = pd.DataFrame(mlb.fit_transform(df['liste_acteurs']), columns=mlb.classes_)\n",
    "real_binarized = pd.DataFrame(mlb.fit_transform(df['Realisateur']), columns=mlb.classes_)"
   ]
  },
  {
   "cell_type": "code",
   "execution_count": null,
   "id": "6a978587",
   "metadata": {},
   "outputs": [],
   "source": [
    "df = pd.concat([df, genres_binarized, acteurs_binarized, real_binarized], axis=1)\n",
    "df = df.drop(['Genres', 'liste_acteurs', 'Realisateur'], axis=1)"
   ]
  },
  {
   "cell_type": "code",
   "execution_count": null,
   "id": "74bb827d",
   "metadata": {},
   "outputs": [],
   "source": [
    "scaler = MinMaxScaler()\n",
    "df['Note_moyenne'] = scaler.fit_transform(df['Note_moyenne'].values.reshape(-1, 1))\n",
    "df['popularity'] = scaler.fit_transform(df['popularity'].values.reshape(-1, 1))\n",
    "df['Duree'] = scaler.fit_transform(df['Duree'].values.reshape(-1, 1))"
   ]
  },
  {
   "cell_type": "code",
   "execution_count": null,
   "id": "b25b22b2",
   "metadata": {},
   "outputs": [],
   "source": [
    "# normalisation des dates\n",
    "# Conversion des dates en nombres de jours depuis le 1er janvier 1970\n",
    "days_since_epoch = np.array([datetime.strptime(date, '%Y-%m-%d').date().toordinal() - datetime(1970, 1, 1).date().toordinal() for date in df['Annee']])"
   ]
  },
  {
   "cell_type": "code",
   "execution_count": null,
   "id": "b9910658",
   "metadata": {},
   "outputs": [],
   "source": [
    "# Normalisation des valeurs numériques\n",
    "scaler = MinMaxScaler()\n",
    "days_since_epoch_normalized = scaler.fit_transform(days_since_epoch.reshape(-1, 1))"
   ]
  },
  {
   "cell_type": "code",
   "execution_count": null,
   "id": "05031318",
   "metadata": {},
   "outputs": [],
   "source": [
    "df = df.drop(['Annee'], axis=1)\n",
    "# Ajout des valeurs normalisées au dataframe\n",
    "df['Annee'] = days_since_epoch_normalized"
   ]
  },
  {
   "cell_type": "code",
   "execution_count": null,
   "id": "9f6be38e",
   "metadata": {},
   "outputs": [],
   "source": [
    "df.to_csv('from_predict.csv', index=False)"
   ]
  },
  {
   "cell_type": "code",
   "execution_count": null,
   "id": "383560b9",
   "metadata": {},
   "outputs": [],
   "source": [
    "# Application de la PCA\n",
    "df = df.drop(['Titre'], axis=1)\n",
    "pca = PCA(n_components=2)\n",
    "X_pca = pca.fit_transform(df)\n",
    "X =pd.DataFrame(X_pca)\n",
    "# on transform le numpy en dataframe\n",
    "X.to_csv('from_predict_PCA.csv', index=False)"
   ]
  },
  {
   "cell_type": "code",
   "execution_count": null,
   "id": "7888d820",
   "metadata": {},
   "outputs": [],
   "source": [
    "genres_recherches = [\"Action\", \"Science-Fiction\"]\n",
    "masque = films_db[\"Titre\"].isin(films_db[films_db[\"Genres\"].str.split(\",\").explode().isin(genres_recherches)][\"Titre\"])\n",
    "films_recherches = films_db[masque]"
   ]
  }
 ],
 "metadata": {
  "kernelspec": {
   "display_name": "Python 3 (ipykernel)",
   "language": "python",
   "name": "python3"
  },
  "language_info": {
   "codemirror_mode": {
    "name": "ipython",
    "version": 3
   },
   "file_extension": ".py",
   "mimetype": "text/x-python",
   "name": "python",
   "nbconvert_exporter": "python",
   "pygments_lexer": "ipython3",
   "version": "3.10.9"
  }
 },
 "nbformat": 4,
 "nbformat_minor": 5
}
